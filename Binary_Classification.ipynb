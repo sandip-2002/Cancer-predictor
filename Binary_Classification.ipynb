{
  "nbformat": 4,
  "nbformat_minor": 0,
  "metadata": {
    "colab": {
      "name": "Binary Classification.ipynb",
      "provenance": [],
      "collapsed_sections": []
    },
    "kernelspec": {
      "name": "python3",
      "display_name": "Python 3"
    },
    "language_info": {
      "name": "python"
    }
  },
  "cells": [
    {
      "cell_type": "code",
      "metadata": {
        "colab": {
          "base_uri": "https://localhost:8080/",
          "height": 232
        },
        "id": "c_MIkv0-V8LA",
        "outputId": "8f19fe2a-2b42-4474-d4ed-606677cbf177"
      },
      "source": [
        "import pandas as pd\n",
        "df = pd.read_csv(\"/content/drive/MyDrive/AI may/cancer.csv\")\n",
        "df.head()"
      ],
      "execution_count": null,
      "outputs": [
        {
          "output_type": "execute_result",
          "data": {
            "text/html": [
              "<div>\n",
              "<style scoped>\n",
              "    .dataframe tbody tr th:only-of-type {\n",
              "        vertical-align: middle;\n",
              "    }\n",
              "\n",
              "    .dataframe tbody tr th {\n",
              "        vertical-align: top;\n",
              "    }\n",
              "\n",
              "    .dataframe thead th {\n",
              "        text-align: right;\n",
              "    }\n",
              "</style>\n",
              "<table border=\"1\" class=\"dataframe\">\n",
              "  <thead>\n",
              "    <tr style=\"text-align: right;\">\n",
              "      <th></th>\n",
              "      <th>id</th>\n",
              "      <th>diagnosis</th>\n",
              "      <th>radius_mean</th>\n",
              "      <th>texture_mean</th>\n",
              "      <th>perimeter_mean</th>\n",
              "      <th>area_mean</th>\n",
              "      <th>smoothness_mean</th>\n",
              "      <th>compactness_mean</th>\n",
              "      <th>concavity_mean</th>\n",
              "      <th>concave points_mean</th>\n",
              "      <th>symmetry_mean</th>\n",
              "      <th>fractal_dimension_mean</th>\n",
              "      <th>radius_se</th>\n",
              "      <th>texture_se</th>\n",
              "      <th>perimeter_se</th>\n",
              "      <th>area_se</th>\n",
              "      <th>smoothness_se</th>\n",
              "      <th>compactness_se</th>\n",
              "      <th>concavity_se</th>\n",
              "      <th>concave points_se</th>\n",
              "      <th>symmetry_se</th>\n",
              "      <th>fractal_dimension_se</th>\n",
              "      <th>radius_worst</th>\n",
              "      <th>texture_worst</th>\n",
              "      <th>perimeter_worst</th>\n",
              "      <th>area_worst</th>\n",
              "      <th>smoothness_worst</th>\n",
              "      <th>compactness_worst</th>\n",
              "      <th>concavity_worst</th>\n",
              "      <th>concave points_worst</th>\n",
              "      <th>symmetry_worst</th>\n",
              "      <th>fractal_dimension_worst</th>\n",
              "      <th>Unnamed: 32</th>\n",
              "    </tr>\n",
              "  </thead>\n",
              "  <tbody>\n",
              "    <tr>\n",
              "      <th>0</th>\n",
              "      <td>842302</td>\n",
              "      <td>M</td>\n",
              "      <td>17.99</td>\n",
              "      <td>10.38</td>\n",
              "      <td>122.80</td>\n",
              "      <td>1001.0</td>\n",
              "      <td>0.11840</td>\n",
              "      <td>0.27760</td>\n",
              "      <td>0.3001</td>\n",
              "      <td>0.14710</td>\n",
              "      <td>0.2419</td>\n",
              "      <td>0.07871</td>\n",
              "      <td>1.0950</td>\n",
              "      <td>0.9053</td>\n",
              "      <td>8.589</td>\n",
              "      <td>153.40</td>\n",
              "      <td>0.006399</td>\n",
              "      <td>0.04904</td>\n",
              "      <td>0.05373</td>\n",
              "      <td>0.01587</td>\n",
              "      <td>0.03003</td>\n",
              "      <td>0.006193</td>\n",
              "      <td>25.38</td>\n",
              "      <td>17.33</td>\n",
              "      <td>184.60</td>\n",
              "      <td>2019.0</td>\n",
              "      <td>0.1622</td>\n",
              "      <td>0.6656</td>\n",
              "      <td>0.7119</td>\n",
              "      <td>0.2654</td>\n",
              "      <td>0.4601</td>\n",
              "      <td>0.11890</td>\n",
              "      <td>NaN</td>\n",
              "    </tr>\n",
              "    <tr>\n",
              "      <th>1</th>\n",
              "      <td>842517</td>\n",
              "      <td>M</td>\n",
              "      <td>20.57</td>\n",
              "      <td>17.77</td>\n",
              "      <td>132.90</td>\n",
              "      <td>1326.0</td>\n",
              "      <td>0.08474</td>\n",
              "      <td>0.07864</td>\n",
              "      <td>0.0869</td>\n",
              "      <td>0.07017</td>\n",
              "      <td>0.1812</td>\n",
              "      <td>0.05667</td>\n",
              "      <td>0.5435</td>\n",
              "      <td>0.7339</td>\n",
              "      <td>3.398</td>\n",
              "      <td>74.08</td>\n",
              "      <td>0.005225</td>\n",
              "      <td>0.01308</td>\n",
              "      <td>0.01860</td>\n",
              "      <td>0.01340</td>\n",
              "      <td>0.01389</td>\n",
              "      <td>0.003532</td>\n",
              "      <td>24.99</td>\n",
              "      <td>23.41</td>\n",
              "      <td>158.80</td>\n",
              "      <td>1956.0</td>\n",
              "      <td>0.1238</td>\n",
              "      <td>0.1866</td>\n",
              "      <td>0.2416</td>\n",
              "      <td>0.1860</td>\n",
              "      <td>0.2750</td>\n",
              "      <td>0.08902</td>\n",
              "      <td>NaN</td>\n",
              "    </tr>\n",
              "    <tr>\n",
              "      <th>2</th>\n",
              "      <td>84300903</td>\n",
              "      <td>M</td>\n",
              "      <td>19.69</td>\n",
              "      <td>21.25</td>\n",
              "      <td>130.00</td>\n",
              "      <td>1203.0</td>\n",
              "      <td>0.10960</td>\n",
              "      <td>0.15990</td>\n",
              "      <td>0.1974</td>\n",
              "      <td>0.12790</td>\n",
              "      <td>0.2069</td>\n",
              "      <td>0.05999</td>\n",
              "      <td>0.7456</td>\n",
              "      <td>0.7869</td>\n",
              "      <td>4.585</td>\n",
              "      <td>94.03</td>\n",
              "      <td>0.006150</td>\n",
              "      <td>0.04006</td>\n",
              "      <td>0.03832</td>\n",
              "      <td>0.02058</td>\n",
              "      <td>0.02250</td>\n",
              "      <td>0.004571</td>\n",
              "      <td>23.57</td>\n",
              "      <td>25.53</td>\n",
              "      <td>152.50</td>\n",
              "      <td>1709.0</td>\n",
              "      <td>0.1444</td>\n",
              "      <td>0.4245</td>\n",
              "      <td>0.4504</td>\n",
              "      <td>0.2430</td>\n",
              "      <td>0.3613</td>\n",
              "      <td>0.08758</td>\n",
              "      <td>NaN</td>\n",
              "    </tr>\n",
              "    <tr>\n",
              "      <th>3</th>\n",
              "      <td>84348301</td>\n",
              "      <td>M</td>\n",
              "      <td>11.42</td>\n",
              "      <td>20.38</td>\n",
              "      <td>77.58</td>\n",
              "      <td>386.1</td>\n",
              "      <td>0.14250</td>\n",
              "      <td>0.28390</td>\n",
              "      <td>0.2414</td>\n",
              "      <td>0.10520</td>\n",
              "      <td>0.2597</td>\n",
              "      <td>0.09744</td>\n",
              "      <td>0.4956</td>\n",
              "      <td>1.1560</td>\n",
              "      <td>3.445</td>\n",
              "      <td>27.23</td>\n",
              "      <td>0.009110</td>\n",
              "      <td>0.07458</td>\n",
              "      <td>0.05661</td>\n",
              "      <td>0.01867</td>\n",
              "      <td>0.05963</td>\n",
              "      <td>0.009208</td>\n",
              "      <td>14.91</td>\n",
              "      <td>26.50</td>\n",
              "      <td>98.87</td>\n",
              "      <td>567.7</td>\n",
              "      <td>0.2098</td>\n",
              "      <td>0.8663</td>\n",
              "      <td>0.6869</td>\n",
              "      <td>0.2575</td>\n",
              "      <td>0.6638</td>\n",
              "      <td>0.17300</td>\n",
              "      <td>NaN</td>\n",
              "    </tr>\n",
              "    <tr>\n",
              "      <th>4</th>\n",
              "      <td>84358402</td>\n",
              "      <td>M</td>\n",
              "      <td>20.29</td>\n",
              "      <td>14.34</td>\n",
              "      <td>135.10</td>\n",
              "      <td>1297.0</td>\n",
              "      <td>0.10030</td>\n",
              "      <td>0.13280</td>\n",
              "      <td>0.1980</td>\n",
              "      <td>0.10430</td>\n",
              "      <td>0.1809</td>\n",
              "      <td>0.05883</td>\n",
              "      <td>0.7572</td>\n",
              "      <td>0.7813</td>\n",
              "      <td>5.438</td>\n",
              "      <td>94.44</td>\n",
              "      <td>0.011490</td>\n",
              "      <td>0.02461</td>\n",
              "      <td>0.05688</td>\n",
              "      <td>0.01885</td>\n",
              "      <td>0.01756</td>\n",
              "      <td>0.005115</td>\n",
              "      <td>22.54</td>\n",
              "      <td>16.67</td>\n",
              "      <td>152.20</td>\n",
              "      <td>1575.0</td>\n",
              "      <td>0.1374</td>\n",
              "      <td>0.2050</td>\n",
              "      <td>0.4000</td>\n",
              "      <td>0.1625</td>\n",
              "      <td>0.2364</td>\n",
              "      <td>0.07678</td>\n",
              "      <td>NaN</td>\n",
              "    </tr>\n",
              "  </tbody>\n",
              "</table>\n",
              "</div>"
            ],
            "text/plain": [
              "         id diagnosis  ...  fractal_dimension_worst  Unnamed: 32\n",
              "0    842302         M  ...                  0.11890          NaN\n",
              "1    842517         M  ...                  0.08902          NaN\n",
              "2  84300903         M  ...                  0.08758          NaN\n",
              "3  84348301         M  ...                  0.17300          NaN\n",
              "4  84358402         M  ...                  0.07678          NaN\n",
              "\n",
              "[5 rows x 33 columns]"
            ]
          },
          "metadata": {
            "tags": []
          },
          "execution_count": 1
        }
      ]
    },
    {
      "cell_type": "code",
      "metadata": {
        "id": "aiJr7DBLWBHD",
        "colab": {
          "base_uri": "https://localhost:8080/"
        },
        "outputId": "b9b27eff-cbb0-4a8f-a6ff-2df852e7d4f6"
      },
      "source": [
        "df.shape"
      ],
      "execution_count": null,
      "outputs": [
        {
          "output_type": "execute_result",
          "data": {
            "text/plain": [
              "(569, 33)"
            ]
          },
          "metadata": {
            "tags": []
          },
          "execution_count": 2
        }
      ]
    },
    {
      "cell_type": "code",
      "metadata": {
        "colab": {
          "base_uri": "https://localhost:8080/"
        },
        "id": "nQzGV87sEFrZ",
        "outputId": "ae98e9cc-f3d2-4236-da9d-09caa7edd0ee"
      },
      "source": [
        "df['diagnosis']=df['diagnosis'].replace({'B':0,'M':1})\n",
        "df[\"diagnosis\"].value_counts()"
      ],
      "execution_count": null,
      "outputs": [
        {
          "output_type": "execute_result",
          "data": {
            "text/plain": [
              "0    357\n",
              "1    212\n",
              "Name: diagnosis, dtype: int64"
            ]
          },
          "metadata": {
            "tags": []
          },
          "execution_count": 3
        }
      ]
    },
    {
      "cell_type": "code",
      "metadata": {
        "colab": {
          "base_uri": "https://localhost:8080/"
        },
        "id": "OeWgH7oBN_Jt",
        "outputId": "68c7d92a-9f21-4794-ba5b-a823a7011a48"
      },
      "source": [
        "df['diagnosis']"
      ],
      "execution_count": null,
      "outputs": [
        {
          "output_type": "execute_result",
          "data": {
            "text/plain": [
              "0      1\n",
              "1      1\n",
              "2      1\n",
              "3      1\n",
              "4      1\n",
              "      ..\n",
              "564    1\n",
              "565    1\n",
              "566    1\n",
              "567    1\n",
              "568    0\n",
              "Name: diagnosis, Length: 569, dtype: int64"
            ]
          },
          "metadata": {
            "tags": []
          },
          "execution_count": 4
        }
      ]
    },
    {
      "cell_type": "code",
      "metadata": {
        "colab": {
          "base_uri": "https://localhost:8080/"
        },
        "id": "4xeKXPB0ENZa",
        "outputId": "796adea3-e13d-46e7-b79d-9aeb81a51e26"
      },
      "source": [
        "x = df.iloc[:,2:-1].values\n",
        "x"
      ],
      "execution_count": null,
      "outputs": [
        {
          "output_type": "execute_result",
          "data": {
            "text/plain": [
              "array([[1.799e+01, 1.038e+01, 1.228e+02, ..., 2.654e-01, 4.601e-01,\n",
              "        1.189e-01],\n",
              "       [2.057e+01, 1.777e+01, 1.329e+02, ..., 1.860e-01, 2.750e-01,\n",
              "        8.902e-02],\n",
              "       [1.969e+01, 2.125e+01, 1.300e+02, ..., 2.430e-01, 3.613e-01,\n",
              "        8.758e-02],\n",
              "       ...,\n",
              "       [1.660e+01, 2.808e+01, 1.083e+02, ..., 1.418e-01, 2.218e-01,\n",
              "        7.820e-02],\n",
              "       [2.060e+01, 2.933e+01, 1.401e+02, ..., 2.650e-01, 4.087e-01,\n",
              "        1.240e-01],\n",
              "       [7.760e+00, 2.454e+01, 4.792e+01, ..., 0.000e+00, 2.871e-01,\n",
              "        7.039e-02]])"
            ]
          },
          "metadata": {
            "tags": []
          },
          "execution_count": 5
        }
      ]
    },
    {
      "cell_type": "code",
      "metadata": {
        "colab": {
          "base_uri": "https://localhost:8080/"
        },
        "id": "Hi8OUjRbGLzI",
        "outputId": "489c90e0-2b68-43e0-8226-e1169e355e3d"
      },
      "source": [
        "y = df.iloc[:,1].values\n",
        "y"
      ],
      "execution_count": null,
      "outputs": [
        {
          "output_type": "execute_result",
          "data": {
            "text/plain": [
              "array([1, 1, 1, 1, 1, 1, 1, 1, 1, 1, 1, 1, 1, 1, 1, 1, 1, 1, 1, 0, 0, 0,\n",
              "       1, 1, 1, 1, 1, 1, 1, 1, 1, 1, 1, 1, 1, 1, 1, 0, 1, 1, 1, 1, 1, 1,\n",
              "       1, 1, 0, 1, 0, 0, 0, 0, 0, 1, 1, 0, 1, 1, 0, 0, 0, 0, 1, 0, 1, 1,\n",
              "       0, 0, 0, 0, 1, 0, 1, 1, 0, 1, 0, 1, 1, 0, 0, 0, 1, 1, 0, 1, 1, 1,\n",
              "       0, 0, 0, 1, 0, 0, 1, 1, 0, 0, 0, 1, 1, 0, 0, 0, 0, 1, 0, 0, 1, 0,\n",
              "       0, 0, 0, 0, 0, 0, 0, 1, 1, 1, 0, 1, 1, 0, 0, 0, 1, 1, 0, 1, 0, 1,\n",
              "       1, 0, 1, 1, 0, 0, 1, 0, 0, 1, 0, 0, 0, 0, 1, 0, 0, 0, 0, 0, 0, 0,\n",
              "       0, 0, 1, 0, 0, 0, 0, 1, 1, 0, 1, 0, 0, 1, 1, 0, 0, 1, 1, 0, 0, 0,\n",
              "       0, 1, 0, 0, 1, 1, 1, 0, 1, 0, 1, 0, 0, 0, 1, 0, 0, 1, 1, 0, 1, 1,\n",
              "       1, 1, 0, 1, 1, 1, 0, 1, 0, 1, 0, 0, 1, 0, 1, 1, 1, 1, 0, 0, 1, 1,\n",
              "       0, 0, 0, 1, 0, 0, 0, 0, 0, 1, 1, 0, 0, 1, 0, 0, 1, 1, 0, 1, 0, 0,\n",
              "       0, 0, 1, 0, 0, 0, 0, 0, 1, 0, 1, 1, 1, 1, 1, 1, 1, 1, 1, 1, 1, 1,\n",
              "       1, 1, 0, 0, 0, 0, 0, 0, 1, 0, 1, 0, 0, 1, 0, 0, 1, 0, 1, 1, 0, 0,\n",
              "       0, 0, 0, 0, 0, 0, 0, 0, 0, 0, 0, 1, 0, 0, 1, 0, 1, 0, 0, 0, 0, 0,\n",
              "       0, 0, 0, 0, 0, 0, 0, 0, 0, 1, 0, 0, 0, 1, 0, 1, 0, 0, 0, 0, 1, 1,\n",
              "       1, 0, 0, 0, 0, 1, 0, 1, 0, 1, 0, 0, 0, 1, 0, 0, 0, 0, 0, 0, 0, 1,\n",
              "       1, 1, 0, 0, 0, 0, 0, 0, 0, 0, 0, 0, 0, 1, 1, 0, 1, 1, 1, 0, 1, 1,\n",
              "       0, 0, 0, 0, 0, 1, 0, 0, 0, 0, 0, 1, 0, 0, 0, 1, 0, 0, 1, 1, 0, 0,\n",
              "       0, 0, 0, 0, 1, 0, 0, 0, 0, 0, 0, 0, 1, 0, 0, 0, 0, 0, 1, 0, 0, 1,\n",
              "       0, 0, 0, 0, 0, 0, 0, 0, 0, 0, 0, 0, 1, 0, 1, 1, 0, 1, 0, 0, 0, 0,\n",
              "       0, 1, 0, 0, 1, 0, 1, 0, 0, 1, 0, 1, 0, 0, 0, 0, 0, 0, 0, 0, 1, 1,\n",
              "       0, 0, 0, 0, 0, 0, 1, 0, 0, 0, 0, 0, 0, 0, 0, 0, 0, 1, 0, 0, 0, 0,\n",
              "       0, 0, 0, 1, 0, 1, 0, 0, 1, 0, 0, 0, 0, 0, 1, 1, 0, 1, 0, 1, 0, 0,\n",
              "       0, 0, 0, 1, 0, 0, 1, 0, 1, 0, 1, 1, 0, 0, 0, 1, 0, 0, 0, 0, 0, 0,\n",
              "       0, 0, 0, 0, 0, 1, 0, 1, 1, 0, 0, 0, 0, 0, 0, 0, 0, 0, 0, 0, 0, 0,\n",
              "       0, 0, 0, 0, 0, 0, 0, 0, 0, 0, 0, 0, 1, 1, 1, 1, 1, 1, 0])"
            ]
          },
          "metadata": {
            "tags": []
          },
          "execution_count": 6
        }
      ]
    },
    {
      "cell_type": "code",
      "metadata": {
        "id": "-zfaeEpaGt1o"
      },
      "source": [
        "from sklearn.model_selection import train_test_split\n",
        "x_train,x_test,y_train,y_test= train_test_split(x,y,test_size=30,random_state=42)"
      ],
      "execution_count": null,
      "outputs": []
    },
    {
      "cell_type": "code",
      "metadata": {
        "colab": {
          "base_uri": "https://localhost:8080/"
        },
        "id": "3gAiJvMWHNpY",
        "outputId": "6aa8f909-e42d-4a67-ce93-7a5ae2b1cb65"
      },
      "source": [
        "import numpy as np\n",
        "np.unique(y_train,return_counts=True)"
      ],
      "execution_count": null,
      "outputs": [
        {
          "output_type": "execute_result",
          "data": {
            "text/plain": [
              "(array([0, 1]), array([339, 200]))"
            ]
          },
          "metadata": {
            "tags": []
          },
          "execution_count": 8
        }
      ]
    },
    {
      "cell_type": "code",
      "metadata": {
        "colab": {
          "base_uri": "https://localhost:8080/"
        },
        "id": "iV7FHpV6Hk4z",
        "outputId": "08f8d83c-27c7-4d18-fd5c-f3c827f97ad2"
      },
      "source": [
        "np.unique(y_test,return_counts=True)"
      ],
      "execution_count": null,
      "outputs": [
        {
          "output_type": "execute_result",
          "data": {
            "text/plain": [
              "(array([0, 1]), array([18, 12]))"
            ]
          },
          "metadata": {
            "tags": []
          },
          "execution_count": 9
        }
      ]
    },
    {
      "cell_type": "code",
      "metadata": {
        "id": "5XwmKQIXH7fv"
      },
      "source": [
        "from sklearn.preprocessing import StandardScaler\n",
        "scaler = StandardScaler()\n",
        "x_train_scaled = scaler.fit_transform(x_train)\n",
        "x_test_scaled = scaler.transform(x_test)"
      ],
      "execution_count": null,
      "outputs": []
    },
    {
      "cell_type": "code",
      "metadata": {
        "id": "7XwNU_BvIo_l"
      },
      "source": [
        "from tensorflow import keras\n",
        "from keras import layers"
      ],
      "execution_count": null,
      "outputs": []
    },
    {
      "cell_type": "code",
      "metadata": {
        "id": "pM4UPxrtIyaC"
      },
      "source": [
        "model=keras.Sequential()\n",
        "model.add(layers.Dense(15,activation='relu',input_shape=x_train[0].shape))\n",
        "model.add(layers.Dense(1,activation='sigmoid'))\n"
      ],
      "execution_count": null,
      "outputs": []
    },
    {
      "cell_type": "code",
      "metadata": {
        "id": "mV0gR4fSI1oH"
      },
      "source": [
        "model.compile(optimizer='adam',loss='binary_crossentropy')"
      ],
      "execution_count": null,
      "outputs": []
    },
    {
      "cell_type": "code",
      "metadata": {
        "colab": {
          "base_uri": "https://localhost:8080/"
        },
        "id": "-NNGut4nKQ-I",
        "outputId": "adba4adf-29fc-4f4b-9ad9-c323e46c9d3f"
      },
      "source": [
        "model.fit(x_train_scaled,y_train,epochs =50,validation_data=(x_test_scaled,y_test)) \n"
      ],
      "execution_count": null,
      "outputs": [
        {
          "output_type": "stream",
          "text": [
            "Epoch 1/50\n",
            "17/17 [==============================] - 1s 31ms/step - loss: 1.0130 - val_loss: 0.8595\n",
            "Epoch 2/50\n",
            "17/17 [==============================] - 0s 3ms/step - loss: 0.6942 - val_loss: 0.6473\n",
            "Epoch 3/50\n",
            "17/17 [==============================] - 0s 3ms/step - loss: 0.5727 - val_loss: 0.5051\n",
            "Epoch 4/50\n",
            "17/17 [==============================] - 0s 3ms/step - loss: 0.4380 - val_loss: 0.4102\n",
            "Epoch 5/50\n",
            "17/17 [==============================] - 0s 4ms/step - loss: 0.3743 - val_loss: 0.3360\n",
            "Epoch 6/50\n",
            "17/17 [==============================] - 0s 4ms/step - loss: 0.2835 - val_loss: 0.2832\n",
            "Epoch 7/50\n",
            "17/17 [==============================] - 0s 4ms/step - loss: 0.2488 - val_loss: 0.2432\n",
            "Epoch 8/50\n",
            "17/17 [==============================] - 0s 4ms/step - loss: 0.2463 - val_loss: 0.2149\n",
            "Epoch 9/50\n",
            "17/17 [==============================] - 0s 4ms/step - loss: 0.2288 - val_loss: 0.1945\n",
            "Epoch 10/50\n",
            "17/17 [==============================] - 0s 4ms/step - loss: 0.1806 - val_loss: 0.1793\n",
            "Epoch 11/50\n",
            "17/17 [==============================] - 0s 4ms/step - loss: 0.1730 - val_loss: 0.1677\n",
            "Epoch 12/50\n",
            "17/17 [==============================] - 0s 4ms/step - loss: 0.1704 - val_loss: 0.1592\n",
            "Epoch 13/50\n",
            "17/17 [==============================] - 0s 4ms/step - loss: 0.1525 - val_loss: 0.1526\n",
            "Epoch 14/50\n",
            "17/17 [==============================] - 0s 3ms/step - loss: 0.1328 - val_loss: 0.1469\n",
            "Epoch 15/50\n",
            "17/17 [==============================] - 0s 4ms/step - loss: 0.1505 - val_loss: 0.1427\n",
            "Epoch 16/50\n",
            "17/17 [==============================] - 0s 3ms/step - loss: 0.1116 - val_loss: 0.1387\n",
            "Epoch 17/50\n",
            "17/17 [==============================] - 0s 4ms/step - loss: 0.1133 - val_loss: 0.1351\n",
            "Epoch 18/50\n",
            "17/17 [==============================] - 0s 3ms/step - loss: 0.1147 - val_loss: 0.1332\n",
            "Epoch 19/50\n",
            "17/17 [==============================] - 0s 3ms/step - loss: 0.1155 - val_loss: 0.1316\n",
            "Epoch 20/50\n",
            "17/17 [==============================] - 0s 3ms/step - loss: 0.1065 - val_loss: 0.1299\n",
            "Epoch 21/50\n",
            "17/17 [==============================] - 0s 4ms/step - loss: 0.1036 - val_loss: 0.1281\n",
            "Epoch 22/50\n",
            "17/17 [==============================] - 0s 4ms/step - loss: 0.1007 - val_loss: 0.1267\n",
            "Epoch 23/50\n",
            "17/17 [==============================] - 0s 4ms/step - loss: 0.0906 - val_loss: 0.1255\n",
            "Epoch 24/50\n",
            "17/17 [==============================] - 0s 4ms/step - loss: 0.0910 - val_loss: 0.1244\n",
            "Epoch 25/50\n",
            "17/17 [==============================] - 0s 4ms/step - loss: 0.1067 - val_loss: 0.1238\n",
            "Epoch 26/50\n",
            "17/17 [==============================] - 0s 4ms/step - loss: 0.0750 - val_loss: 0.1231\n",
            "Epoch 27/50\n",
            "17/17 [==============================] - 0s 4ms/step - loss: 0.0859 - val_loss: 0.1224\n",
            "Epoch 28/50\n",
            "17/17 [==============================] - 0s 4ms/step - loss: 0.0771 - val_loss: 0.1214\n",
            "Epoch 29/50\n",
            "17/17 [==============================] - 0s 4ms/step - loss: 0.0658 - val_loss: 0.1214\n",
            "Epoch 30/50\n",
            "17/17 [==============================] - 0s 4ms/step - loss: 0.0730 - val_loss: 0.1211\n",
            "Epoch 31/50\n",
            "17/17 [==============================] - 0s 3ms/step - loss: 0.0768 - val_loss: 0.1210\n",
            "Epoch 32/50\n",
            "17/17 [==============================] - 0s 4ms/step - loss: 0.0607 - val_loss: 0.1209\n",
            "Epoch 33/50\n",
            "17/17 [==============================] - 0s 4ms/step - loss: 0.0794 - val_loss: 0.1205\n",
            "Epoch 34/50\n",
            "17/17 [==============================] - 0s 4ms/step - loss: 0.0749 - val_loss: 0.1212\n",
            "Epoch 35/50\n",
            "17/17 [==============================] - 0s 4ms/step - loss: 0.0693 - val_loss: 0.1205\n",
            "Epoch 36/50\n",
            "17/17 [==============================] - 0s 4ms/step - loss: 0.0768 - val_loss: 0.1208\n",
            "Epoch 37/50\n",
            "17/17 [==============================] - 0s 3ms/step - loss: 0.0749 - val_loss: 0.1213\n",
            "Epoch 38/50\n",
            "17/17 [==============================] - 0s 4ms/step - loss: 0.0634 - val_loss: 0.1213\n",
            "Epoch 39/50\n",
            "17/17 [==============================] - 0s 4ms/step - loss: 0.0609 - val_loss: 0.1212\n",
            "Epoch 40/50\n",
            "17/17 [==============================] - 0s 4ms/step - loss: 0.0520 - val_loss: 0.1215\n",
            "Epoch 41/50\n",
            "17/17 [==============================] - 0s 5ms/step - loss: 0.0564 - val_loss: 0.1215\n",
            "Epoch 42/50\n",
            "17/17 [==============================] - 0s 4ms/step - loss: 0.0523 - val_loss: 0.1218\n",
            "Epoch 43/50\n",
            "17/17 [==============================] - 0s 4ms/step - loss: 0.0585 - val_loss: 0.1215\n",
            "Epoch 44/50\n",
            "17/17 [==============================] - 0s 4ms/step - loss: 0.0677 - val_loss: 0.1215\n",
            "Epoch 45/50\n",
            "17/17 [==============================] - 0s 4ms/step - loss: 0.0427 - val_loss: 0.1221\n",
            "Epoch 46/50\n",
            "17/17 [==============================] - 0s 3ms/step - loss: 0.0508 - val_loss: 0.1225\n",
            "Epoch 47/50\n",
            "17/17 [==============================] - 0s 3ms/step - loss: 0.0643 - val_loss: 0.1219\n",
            "Epoch 48/50\n",
            "17/17 [==============================] - 0s 3ms/step - loss: 0.0654 - val_loss: 0.1218\n",
            "Epoch 49/50\n",
            "17/17 [==============================] - 0s 4ms/step - loss: 0.0497 - val_loss: 0.1223\n",
            "Epoch 50/50\n",
            "17/17 [==============================] - 0s 4ms/step - loss: 0.0430 - val_loss: 0.1226\n"
          ],
          "name": "stdout"
        },
        {
          "output_type": "execute_result",
          "data": {
            "text/plain": [
              "<tensorflow.python.keras.callbacks.History at 0x7faf02542750>"
            ]
          },
          "metadata": {
            "tags": []
          },
          "execution_count": 14
        }
      ]
    },
    {
      "cell_type": "code",
      "metadata": {
        "colab": {
          "base_uri": "https://localhost:8080/",
          "height": 1000
        },
        "id": "1lUQWZHxKecJ",
        "outputId": "6fa5ce5a-47a7-4753-eed0-afd8c7b7c9dd"
      },
      "source": [
        "import pandas as pd\n",
        "loss=pd.DataFrame(model.history.history)\n",
        "loss"
      ],
      "execution_count": null,
      "outputs": [
        {
          "output_type": "execute_result",
          "data": {
            "text/html": [
              "<div>\n",
              "<style scoped>\n",
              "    .dataframe tbody tr th:only-of-type {\n",
              "        vertical-align: middle;\n",
              "    }\n",
              "\n",
              "    .dataframe tbody tr th {\n",
              "        vertical-align: top;\n",
              "    }\n",
              "\n",
              "    .dataframe thead th {\n",
              "        text-align: right;\n",
              "    }\n",
              "</style>\n",
              "<table border=\"1\" class=\"dataframe\">\n",
              "  <thead>\n",
              "    <tr style=\"text-align: right;\">\n",
              "      <th></th>\n",
              "      <th>loss</th>\n",
              "      <th>val_loss</th>\n",
              "    </tr>\n",
              "  </thead>\n",
              "  <tbody>\n",
              "    <tr>\n",
              "      <th>0</th>\n",
              "      <td>0.934982</td>\n",
              "      <td>0.859502</td>\n",
              "    </tr>\n",
              "    <tr>\n",
              "      <th>1</th>\n",
              "      <td>0.680827</td>\n",
              "      <td>0.647323</td>\n",
              "    </tr>\n",
              "    <tr>\n",
              "      <th>2</th>\n",
              "      <td>0.531871</td>\n",
              "      <td>0.505103</td>\n",
              "    </tr>\n",
              "    <tr>\n",
              "      <th>3</th>\n",
              "      <td>0.425798</td>\n",
              "      <td>0.410168</td>\n",
              "    </tr>\n",
              "    <tr>\n",
              "      <th>4</th>\n",
              "      <td>0.355119</td>\n",
              "      <td>0.335966</td>\n",
              "    </tr>\n",
              "    <tr>\n",
              "      <th>5</th>\n",
              "      <td>0.300743</td>\n",
              "      <td>0.283205</td>\n",
              "    </tr>\n",
              "    <tr>\n",
              "      <th>6</th>\n",
              "      <td>0.260370</td>\n",
              "      <td>0.243220</td>\n",
              "    </tr>\n",
              "    <tr>\n",
              "      <th>7</th>\n",
              "      <td>0.229167</td>\n",
              "      <td>0.214939</td>\n",
              "    </tr>\n",
              "    <tr>\n",
              "      <th>8</th>\n",
              "      <td>0.204544</td>\n",
              "      <td>0.194456</td>\n",
              "    </tr>\n",
              "    <tr>\n",
              "      <th>9</th>\n",
              "      <td>0.185598</td>\n",
              "      <td>0.179296</td>\n",
              "    </tr>\n",
              "    <tr>\n",
              "      <th>10</th>\n",
              "      <td>0.170431</td>\n",
              "      <td>0.167652</td>\n",
              "    </tr>\n",
              "    <tr>\n",
              "      <th>11</th>\n",
              "      <td>0.157471</td>\n",
              "      <td>0.159181</td>\n",
              "    </tr>\n",
              "    <tr>\n",
              "      <th>12</th>\n",
              "      <td>0.147047</td>\n",
              "      <td>0.152618</td>\n",
              "    </tr>\n",
              "    <tr>\n",
              "      <th>13</th>\n",
              "      <td>0.137823</td>\n",
              "      <td>0.146866</td>\n",
              "    </tr>\n",
              "    <tr>\n",
              "      <th>14</th>\n",
              "      <td>0.130147</td>\n",
              "      <td>0.142663</td>\n",
              "    </tr>\n",
              "    <tr>\n",
              "      <th>15</th>\n",
              "      <td>0.123235</td>\n",
              "      <td>0.138658</td>\n",
              "    </tr>\n",
              "    <tr>\n",
              "      <th>16</th>\n",
              "      <td>0.117185</td>\n",
              "      <td>0.135091</td>\n",
              "    </tr>\n",
              "    <tr>\n",
              "      <th>17</th>\n",
              "      <td>0.111693</td>\n",
              "      <td>0.133170</td>\n",
              "    </tr>\n",
              "    <tr>\n",
              "      <th>18</th>\n",
              "      <td>0.107005</td>\n",
              "      <td>0.131561</td>\n",
              "    </tr>\n",
              "    <tr>\n",
              "      <th>19</th>\n",
              "      <td>0.102653</td>\n",
              "      <td>0.129902</td>\n",
              "    </tr>\n",
              "    <tr>\n",
              "      <th>20</th>\n",
              "      <td>0.098657</td>\n",
              "      <td>0.128066</td>\n",
              "    </tr>\n",
              "    <tr>\n",
              "      <th>21</th>\n",
              "      <td>0.095284</td>\n",
              "      <td>0.126666</td>\n",
              "    </tr>\n",
              "    <tr>\n",
              "      <th>22</th>\n",
              "      <td>0.092002</td>\n",
              "      <td>0.125493</td>\n",
              "    </tr>\n",
              "    <tr>\n",
              "      <th>23</th>\n",
              "      <td>0.088995</td>\n",
              "      <td>0.124405</td>\n",
              "    </tr>\n",
              "    <tr>\n",
              "      <th>24</th>\n",
              "      <td>0.086272</td>\n",
              "      <td>0.123772</td>\n",
              "    </tr>\n",
              "    <tr>\n",
              "      <th>25</th>\n",
              "      <td>0.083860</td>\n",
              "      <td>0.123054</td>\n",
              "    </tr>\n",
              "    <tr>\n",
              "      <th>26</th>\n",
              "      <td>0.081420</td>\n",
              "      <td>0.122388</td>\n",
              "    </tr>\n",
              "    <tr>\n",
              "      <th>27</th>\n",
              "      <td>0.079264</td>\n",
              "      <td>0.121377</td>\n",
              "    </tr>\n",
              "    <tr>\n",
              "      <th>28</th>\n",
              "      <td>0.077348</td>\n",
              "      <td>0.121446</td>\n",
              "    </tr>\n",
              "    <tr>\n",
              "      <th>29</th>\n",
              "      <td>0.075385</td>\n",
              "      <td>0.121068</td>\n",
              "    </tr>\n",
              "    <tr>\n",
              "      <th>30</th>\n",
              "      <td>0.073574</td>\n",
              "      <td>0.121039</td>\n",
              "    </tr>\n",
              "    <tr>\n",
              "      <th>31</th>\n",
              "      <td>0.072090</td>\n",
              "      <td>0.120942</td>\n",
              "    </tr>\n",
              "    <tr>\n",
              "      <th>32</th>\n",
              "      <td>0.070381</td>\n",
              "      <td>0.120476</td>\n",
              "    </tr>\n",
              "    <tr>\n",
              "      <th>33</th>\n",
              "      <td>0.068895</td>\n",
              "      <td>0.121164</td>\n",
              "    </tr>\n",
              "    <tr>\n",
              "      <th>34</th>\n",
              "      <td>0.067354</td>\n",
              "      <td>0.120536</td>\n",
              "    </tr>\n",
              "    <tr>\n",
              "      <th>35</th>\n",
              "      <td>0.066033</td>\n",
              "      <td>0.120797</td>\n",
              "    </tr>\n",
              "    <tr>\n",
              "      <th>36</th>\n",
              "      <td>0.064766</td>\n",
              "      <td>0.121316</td>\n",
              "    </tr>\n",
              "    <tr>\n",
              "      <th>37</th>\n",
              "      <td>0.063497</td>\n",
              "      <td>0.121344</td>\n",
              "    </tr>\n",
              "    <tr>\n",
              "      <th>38</th>\n",
              "      <td>0.062436</td>\n",
              "      <td>0.121156</td>\n",
              "    </tr>\n",
              "    <tr>\n",
              "      <th>39</th>\n",
              "      <td>0.061337</td>\n",
              "      <td>0.121457</td>\n",
              "    </tr>\n",
              "    <tr>\n",
              "      <th>40</th>\n",
              "      <td>0.060290</td>\n",
              "      <td>0.121459</td>\n",
              "    </tr>\n",
              "    <tr>\n",
              "      <th>41</th>\n",
              "      <td>0.059283</td>\n",
              "      <td>0.121767</td>\n",
              "    </tr>\n",
              "    <tr>\n",
              "      <th>42</th>\n",
              "      <td>0.058311</td>\n",
              "      <td>0.121539</td>\n",
              "    </tr>\n",
              "    <tr>\n",
              "      <th>43</th>\n",
              "      <td>0.057469</td>\n",
              "      <td>0.121478</td>\n",
              "    </tr>\n",
              "    <tr>\n",
              "      <th>44</th>\n",
              "      <td>0.056693</td>\n",
              "      <td>0.122095</td>\n",
              "    </tr>\n",
              "    <tr>\n",
              "      <th>45</th>\n",
              "      <td>0.055828</td>\n",
              "      <td>0.122492</td>\n",
              "    </tr>\n",
              "    <tr>\n",
              "      <th>46</th>\n",
              "      <td>0.054995</td>\n",
              "      <td>0.121926</td>\n",
              "    </tr>\n",
              "    <tr>\n",
              "      <th>47</th>\n",
              "      <td>0.054300</td>\n",
              "      <td>0.121765</td>\n",
              "    </tr>\n",
              "    <tr>\n",
              "      <th>48</th>\n",
              "      <td>0.053503</td>\n",
              "      <td>0.122340</td>\n",
              "    </tr>\n",
              "    <tr>\n",
              "      <th>49</th>\n",
              "      <td>0.052865</td>\n",
              "      <td>0.122598</td>\n",
              "    </tr>\n",
              "  </tbody>\n",
              "</table>\n",
              "</div>"
            ],
            "text/plain": [
              "        loss  val_loss\n",
              "0   0.934982  0.859502\n",
              "1   0.680827  0.647323\n",
              "2   0.531871  0.505103\n",
              "3   0.425798  0.410168\n",
              "4   0.355119  0.335966\n",
              "5   0.300743  0.283205\n",
              "6   0.260370  0.243220\n",
              "7   0.229167  0.214939\n",
              "8   0.204544  0.194456\n",
              "9   0.185598  0.179296\n",
              "10  0.170431  0.167652\n",
              "11  0.157471  0.159181\n",
              "12  0.147047  0.152618\n",
              "13  0.137823  0.146866\n",
              "14  0.130147  0.142663\n",
              "15  0.123235  0.138658\n",
              "16  0.117185  0.135091\n",
              "17  0.111693  0.133170\n",
              "18  0.107005  0.131561\n",
              "19  0.102653  0.129902\n",
              "20  0.098657  0.128066\n",
              "21  0.095284  0.126666\n",
              "22  0.092002  0.125493\n",
              "23  0.088995  0.124405\n",
              "24  0.086272  0.123772\n",
              "25  0.083860  0.123054\n",
              "26  0.081420  0.122388\n",
              "27  0.079264  0.121377\n",
              "28  0.077348  0.121446\n",
              "29  0.075385  0.121068\n",
              "30  0.073574  0.121039\n",
              "31  0.072090  0.120942\n",
              "32  0.070381  0.120476\n",
              "33  0.068895  0.121164\n",
              "34  0.067354  0.120536\n",
              "35  0.066033  0.120797\n",
              "36  0.064766  0.121316\n",
              "37  0.063497  0.121344\n",
              "38  0.062436  0.121156\n",
              "39  0.061337  0.121457\n",
              "40  0.060290  0.121459\n",
              "41  0.059283  0.121767\n",
              "42  0.058311  0.121539\n",
              "43  0.057469  0.121478\n",
              "44  0.056693  0.122095\n",
              "45  0.055828  0.122492\n",
              "46  0.054995  0.121926\n",
              "47  0.054300  0.121765\n",
              "48  0.053503  0.122340\n",
              "49  0.052865  0.122598"
            ]
          },
          "metadata": {
            "tags": []
          },
          "execution_count": 15
        }
      ]
    },
    {
      "cell_type": "code",
      "metadata": {
        "colab": {
          "base_uri": "https://localhost:8080/",
          "height": 265
        },
        "id": "JTq6hrwYNIF0",
        "outputId": "2258712d-8861-4e94-a296-c33bb3a6c2e2"
      },
      "source": [
        "import matplotlib.pyplot as plt\n",
        "plt.plot(loss)\n",
        "a=plt.show"
      ],
      "execution_count": null,
      "outputs": [
        {
          "output_type": "display_data",
          "data": {
            "image/png": "[encoded data removed]",
            "text/plain": [
              "<Figure size 432x288 with 1 Axes>"
            ]
          },
          "metadata": {
            "tags": [],
            "needs_background": "light"
          }
        }
      ]
    },
    {
      "cell_type": "code",
      "metadata": {
        "colab": {
          "base_uri": "https://localhost:8080/"
        },
        "id": "Bs-_TcNIZFh8",
        "outputId": "5e37db49-45a9-4c1a-b181-2515efbdf470"
      },
      "source": [
        "y_pred = np.argmax(model.predict(x_test_scaled),axis=-1)\n",
        "y_pred"
      ],
      "execution_count": null,
      "outputs": [
        {
          "output_type": "execute_result",
          "data": {
            "text/plain": [
              "array([0, 0, 0, 0, 0, 0, 0, 0, 0, 0, 0, 0, 0, 0, 0, 0, 0, 0, 0, 0, 0, 0,\n",
              "       0, 0, 0, 0, 0, 0, 0, 0])"
            ]
          },
          "metadata": {
            "tags": []
          },
          "execution_count": 17
        }
      ]
    },
    {
      "cell_type": "code",
      "metadata": {
        "colab": {
          "base_uri": "https://localhost:8080/"
        },
        "id": "6svHIVQJcU7o",
        "outputId": "95854ac5-0ed9-40be-a3ad-5438cc4d2386"
      },
      "source": [
        "y_pred = model.predict_classes(x_test_scaled)\n",
        "y_pred = y_pred.flatten()\n",
        "y_pred"
      ],
      "execution_count": null,
      "outputs": [
        {
          "output_type": "stream",
          "text": [
            "/usr/local/lib/python3.7/dist-packages/tensorflow/python/keras/engine/sequential.py:450: UserWarning: `model.predict_classes()` is deprecated and will be removed after 2021-01-01. Please use instead:* `np.argmax(model.predict(x), axis=-1)`,   if your model does multi-class classification   (e.g. if it uses a `softmax` last-layer activation).* `(model.predict(x) > 0.5).astype(\"int32\")`,   if your model does binary classification   (e.g. if it uses a `sigmoid` last-layer activation).\n",
            "  warnings.warn('`model.predict_classes()` is deprecated and '\n"
          ],
          "name": "stderr"
        },
        {
          "output_type": "execute_result",
          "data": {
            "text/plain": [
              "array([0, 1, 1, 0, 0, 1, 1, 1, 1, 0, 0, 1, 0, 1, 0, 1, 0, 0, 0, 1, 0, 0,\n",
              "       1, 0, 0, 0, 0, 0, 0, 1], dtype=int32)"
            ]
          },
          "metadata": {
            "tags": []
          },
          "execution_count": 18
        }
      ]
    },
    {
      "cell_type": "code",
      "metadata": {
        "colab": {
          "base_uri": "https://localhost:8080/"
        },
        "id": "vAfwIgwJdGBS",
        "outputId": "d558ac21-dcf4-41e4-e401-022f786f6281"
      },
      "source": [
        "y_test"
      ],
      "execution_count": null,
      "outputs": [
        {
          "output_type": "execute_result",
          "data": {
            "text/plain": [
              "array([0, 1, 1, 0, 0, 1, 1, 1, 0, 0, 0, 1, 0, 1, 0, 1, 0, 0, 0, 1, 1, 0,\n",
              "       1, 0, 0, 0, 0, 0, 0, 1])"
            ]
          },
          "metadata": {
            "tags": []
          },
          "execution_count": 19
        }
      ]
    },
    {
      "cell_type": "code",
      "metadata": {
        "id": "dw047yHbdK9h"
      },
      "source": [
        "from sklearn.metrics import accuracy_score,confusion_matrix"
      ],
      "execution_count": null,
      "outputs": []
    },
    {
      "cell_type": "code",
      "metadata": {
        "colab": {
          "base_uri": "https://localhost:8080/"
        },
        "id": "XaDF27wxgfZc",
        "outputId": "f32631b4-6244-4578-a7d0-cca4e030c0f4"
      },
      "source": [
        "confusion_matrix(y_pred,y_test)"
      ],
      "execution_count": null,
      "outputs": [
        {
          "output_type": "execute_result",
          "data": {
            "text/plain": [
              "array([[17,  1],\n",
              "       [ 1, 11]])"
            ]
          },
          "metadata": {
            "tags": []
          },
          "execution_count": 21
        }
      ]
    },
    {
      "cell_type": "code",
      "metadata": {
        "colab": {
          "base_uri": "https://localhost:8080/"
        },
        "id": "dGam2HE9gm1T",
        "outputId": "8f481aff-f3d5-4cf8-f852-889d6a886af0"
      },
      "source": [
        "np.unique(y_test,return_counts=True)"
      ],
      "execution_count": null,
      "outputs": [
        {
          "output_type": "execute_result",
          "data": {
            "text/plain": [
              "(array([0, 1]), array([18, 12]))"
            ]
          },
          "metadata": {
            "tags": []
          },
          "execution_count": 22
        }
      ]
    },
    {
      "cell_type": "code",
      "metadata": {
        "colab": {
          "base_uri": "https://localhost:8080/"
        },
        "id": "EWu0TmMKg0uI",
        "outputId": "2486f1d0-b795-40ae-c414-e54fe9c3f546"
      },
      "source": [
        "np.unique(y_pred,return_counts=True)"
      ],
      "execution_count": null,
      "outputs": [
        {
          "output_type": "execute_result",
          "data": {
            "text/plain": [
              "(array([0, 1], dtype=int32), array([18, 12]))"
            ]
          },
          "metadata": {
            "tags": []
          },
          "execution_count": 23
        }
      ]
    },
    {
      "cell_type": "code",
      "metadata": {
        "colab": {
          "base_uri": "https://localhost:8080/"
        },
        "id": "FaLA9KBtg7RG",
        "outputId": "08a0b7b7-7556-427b-83f1-39dc6eb4b987"
      },
      "source": [
        "accuracy_score(y_test,y_pred)"
      ],
      "execution_count": null,
      "outputs": [
        {
          "output_type": "execute_result",
          "data": {
            "text/plain": [
              "0.9333333333333333"
            ]
          },
          "metadata": {
            "tags": []
          },
          "execution_count": 24
        }
      ]
    },
    {
      "cell_type": "code",
      "metadata": {
        "colab": {
          "base_uri": "https://localhost:8080/"
        },
        "id": "pZ6qSbtSiFJQ",
        "outputId": "3ecf6ac1-b3f3-4646-d079-97d6c76512e4"
      },
      "source": [
        "(18+11)/(18+1+11)"
      ],
      "execution_count": null,
      "outputs": [
        {
          "output_type": "execute_result",
          "data": {
            "text/plain": [
              "0.9666666666666667"
            ]
          },
          "metadata": {
            "tags": []
          },
          "execution_count": 25
        }
      ]
    },
    {
      "cell_type": "code",
      "metadata": {
        "id": "6oSjX10hiR9e",
        "colab": {
          "base_uri": "https://localhost:8080/"
        },
        "outputId": "5aa4b16d-643f-415f-90ee-e4ce6e324d96"
      },
      "source": [
        "#early stoping\n",
        "from keras.callbacks import EarlyStopping\n",
        "early_stop = EarlyStopping(mode='min', verbose =1, patience =5)\n",
        "model.fit(x_train_scaled,y_train,epochs =400,validation_data=(x_test_scaled,y_test),callbacks=[early_stop])"
      ],
      "execution_count": null,
      "outputs": [
        {
          "output_type": "stream",
          "text": [
            "Epoch 1/400\n",
            "17/17 [==============================] - 0s 7ms/step - loss: 0.0520 - val_loss: 0.1226\n",
            "Epoch 2/400\n",
            "17/17 [==============================] - 0s 3ms/step - loss: 0.0514 - val_loss: 0.1223\n",
            "Epoch 3/400\n",
            "17/17 [==============================] - 0s 3ms/step - loss: 0.0507 - val_loss: 0.1232\n",
            "Epoch 4/400\n",
            "17/17 [==============================] - 0s 3ms/step - loss: 0.0500 - val_loss: 0.1228\n",
            "Epoch 5/400\n",
            "17/17 [==============================] - 0s 4ms/step - loss: 0.0495 - val_loss: 0.1225\n",
            "Epoch 6/400\n",
            "17/17 [==============================] - 0s 4ms/step - loss: 0.0489 - val_loss: 0.1232\n",
            "Epoch 7/400\n",
            "17/17 [==============================] - 0s 4ms/step - loss: 0.0481 - val_loss: 0.1237\n",
            "Epoch 00007: early stopping\n"
          ],
          "name": "stdout"
        },
        {
          "output_type": "execute_result",
          "data": {
            "text/plain": [
              "<tensorflow.python.keras.callbacks.History at 0x7faefe686e50>"
            ]
          },
          "metadata": {
            "tags": []
          },
          "execution_count": 26
        }
      ]
    },
    {
      "cell_type": "code",
      "metadata": {
        "colab": {
          "base_uri": "https://localhost:8080/",
          "height": 265
        },
        "id": "0rNucoJha_sR",
        "outputId": "772ffcb7-cc44-47b5-91d3-a1fec418af4f"
      },
      "source": [
        "import matplotlib.pyplot as plt\n",
        "plt.plot(loss)\n",
        "a=plt.show"
      ],
      "execution_count": null,
      "outputs": [
        {
          "output_type": "display_data",
          "data": {
            "image/png": "[encoded data removed]",
            "text/plain": [
              "<Figure size 432x288 with 1 Axes>"
            ]
          },
          "metadata": {
            "tags": [],
            "needs_background": "light"
          }
        }
      ]
    },
    {
      "cell_type": "code",
      "metadata": {
        "id": "GnFFKob8dPBr"
      },
      "source": [
        "model=keras.Sequential()\n",
        "model.add(layers.Dense(15,activation='relu',input_shape=x_train[0].shape))\n",
        "model.add(layers.Dropout(0.3))\n",
        "model.add(layers.Dense(1,activation='sigmoid'))\n"
      ],
      "execution_count": null,
      "outputs": []
    },
    {
      "cell_type": "code",
      "metadata": {
        "id": "jq3fraSJdPB8"
      },
      "source": [
        "model.compile(optimizer='adam',loss='binary_crossentropy')"
      ],
      "execution_count": null,
      "outputs": []
    },
    {
      "cell_type": "code",
      "metadata": {
        "colab": {
          "base_uri": "https://localhost:8080/"
        },
        "id": "7y5AzZdWdPB-",
        "outputId": "37c79bcd-acb2-4e38-e360-e400d9d89c98"
      },
      "source": [
        "model.fit(x_train_scaled,y_train,epochs =50,validation_data=(x_test_scaled,y_test)) \n"
      ],
      "execution_count": null,
      "outputs": [
        {
          "output_type": "stream",
          "text": [
            "Epoch 1/50\n",
            "17/17 [==============================] - 1s 11ms/step - loss: 0.8058 - val_loss: 0.5798\n",
            "Epoch 2/50\n",
            "17/17 [==============================] - 0s 4ms/step - loss: 0.6329 - val_loss: 0.4664\n",
            "Epoch 3/50\n",
            "17/17 [==============================] - 0s 3ms/step - loss: 0.5621 - val_loss: 0.3891\n",
            "Epoch 4/50\n",
            "17/17 [==============================] - 0s 3ms/step - loss: 0.4898 - val_loss: 0.3285\n",
            "Epoch 5/50\n",
            "17/17 [==============================] - 0s 3ms/step - loss: 0.4208 - val_loss: 0.2829\n",
            "Epoch 6/50\n",
            "17/17 [==============================] - 0s 3ms/step - loss: 0.3358 - val_loss: 0.2454\n",
            "Epoch 7/50\n",
            "17/17 [==============================] - 0s 3ms/step - loss: 0.3267 - val_loss: 0.2148\n",
            "Epoch 8/50\n",
            "17/17 [==============================] - 0s 3ms/step - loss: 0.2691 - val_loss: 0.1901\n",
            "Epoch 9/50\n",
            "17/17 [==============================] - 0s 4ms/step - loss: 0.2524 - val_loss: 0.1694\n",
            "Epoch 10/50\n",
            "17/17 [==============================] - 0s 4ms/step - loss: 0.2003 - val_loss: 0.1529\n",
            "Epoch 11/50\n",
            "17/17 [==============================] - 0s 4ms/step - loss: 0.2026 - val_loss: 0.1406\n",
            "Epoch 12/50\n",
            "17/17 [==============================] - 0s 3ms/step - loss: 0.1722 - val_loss: 0.1297\n",
            "Epoch 13/50\n",
            "17/17 [==============================] - 0s 4ms/step - loss: 0.1736 - val_loss: 0.1218\n",
            "Epoch 14/50\n",
            "17/17 [==============================] - 0s 4ms/step - loss: 0.1494 - val_loss: 0.1148\n",
            "Epoch 15/50\n",
            "17/17 [==============================] - 0s 4ms/step - loss: 0.1574 - val_loss: 0.1097\n",
            "Epoch 16/50\n",
            "17/17 [==============================] - 0s 4ms/step - loss: 0.1456 - val_loss: 0.1055\n",
            "Epoch 17/50\n",
            "17/17 [==============================] - 0s 3ms/step - loss: 0.1418 - val_loss: 0.1025\n",
            "Epoch 18/50\n",
            "17/17 [==============================] - 0s 3ms/step - loss: 0.1104 - val_loss: 0.1001\n",
            "Epoch 19/50\n",
            "17/17 [==============================] - 0s 3ms/step - loss: 0.1153 - val_loss: 0.0984\n",
            "Epoch 20/50\n",
            "17/17 [==============================] - 0s 4ms/step - loss: 0.1050 - val_loss: 0.0970\n",
            "Epoch 21/50\n",
            "17/17 [==============================] - 0s 4ms/step - loss: 0.1335 - val_loss: 0.0962\n",
            "Epoch 22/50\n",
            "17/17 [==============================] - 0s 4ms/step - loss: 0.1154 - val_loss: 0.0957\n",
            "Epoch 23/50\n",
            "17/17 [==============================] - 0s 4ms/step - loss: 0.0966 - val_loss: 0.0951\n",
            "Epoch 24/50\n",
            "17/17 [==============================] - 0s 3ms/step - loss: 0.1061 - val_loss: 0.0944\n",
            "Epoch 25/50\n",
            "17/17 [==============================] - 0s 3ms/step - loss: 0.1084 - val_loss: 0.0942\n",
            "Epoch 26/50\n",
            "17/17 [==============================] - 0s 4ms/step - loss: 0.1166 - val_loss: 0.0942\n",
            "Epoch 27/50\n",
            "17/17 [==============================] - 0s 4ms/step - loss: 0.1065 - val_loss: 0.0946\n",
            "Epoch 28/50\n",
            "17/17 [==============================] - 0s 4ms/step - loss: 0.0726 - val_loss: 0.0949\n",
            "Epoch 29/50\n",
            "17/17 [==============================] - 0s 3ms/step - loss: 0.0827 - val_loss: 0.0954\n",
            "Epoch 30/50\n",
            "17/17 [==============================] - 0s 4ms/step - loss: 0.0926 - val_loss: 0.0958\n",
            "Epoch 31/50\n",
            "17/17 [==============================] - 0s 4ms/step - loss: 0.0796 - val_loss: 0.0963\n",
            "Epoch 32/50\n",
            "17/17 [==============================] - 0s 4ms/step - loss: 0.1006 - val_loss: 0.0964\n",
            "Epoch 33/50\n",
            "17/17 [==============================] - 0s 4ms/step - loss: 0.1023 - val_loss: 0.0969\n",
            "Epoch 34/50\n",
            "17/17 [==============================] - 0s 3ms/step - loss: 0.0991 - val_loss: 0.0973\n",
            "Epoch 35/50\n",
            "17/17 [==============================] - 0s 3ms/step - loss: 0.0947 - val_loss: 0.0970\n",
            "Epoch 36/50\n",
            "17/17 [==============================] - 0s 3ms/step - loss: 0.0948 - val_loss: 0.0970\n",
            "Epoch 37/50\n",
            "17/17 [==============================] - 0s 3ms/step - loss: 0.0683 - val_loss: 0.0980\n",
            "Epoch 38/50\n",
            "17/17 [==============================] - 0s 4ms/step - loss: 0.0654 - val_loss: 0.0993\n",
            "Epoch 39/50\n",
            "17/17 [==============================] - 0s 4ms/step - loss: 0.0635 - val_loss: 0.0999\n",
            "Epoch 40/50\n",
            "17/17 [==============================] - 0s 4ms/step - loss: 0.0751 - val_loss: 0.0994\n",
            "Epoch 41/50\n",
            "17/17 [==============================] - 0s 4ms/step - loss: 0.0899 - val_loss: 0.1006\n",
            "Epoch 42/50\n",
            "17/17 [==============================] - 0s 4ms/step - loss: 0.0731 - val_loss: 0.1002\n",
            "Epoch 43/50\n",
            "17/17 [==============================] - 0s 3ms/step - loss: 0.0595 - val_loss: 0.1008\n",
            "Epoch 44/50\n",
            "17/17 [==============================] - 0s 5ms/step - loss: 0.0585 - val_loss: 0.1012\n",
            "Epoch 45/50\n",
            "17/17 [==============================] - 0s 4ms/step - loss: 0.0583 - val_loss: 0.1011\n",
            "Epoch 46/50\n",
            "17/17 [==============================] - 0s 4ms/step - loss: 0.0890 - val_loss: 0.1024\n",
            "Epoch 47/50\n",
            "17/17 [==============================] - 0s 4ms/step - loss: 0.0661 - val_loss: 0.1026\n",
            "Epoch 48/50\n",
            "17/17 [==============================] - 0s 4ms/step - loss: 0.0612 - val_loss: 0.1031\n",
            "Epoch 49/50\n",
            "17/17 [==============================] - 0s 4ms/step - loss: 0.0923 - val_loss: 0.1033\n",
            "Epoch 50/50\n",
            "17/17 [==============================] - 0s 4ms/step - loss: 0.0647 - val_loss: 0.1042\n"
          ],
          "name": "stdout"
        },
        {
          "output_type": "execute_result",
          "data": {
            "text/plain": [
              "<tensorflow.python.keras.callbacks.History at 0x7faeffd07650>"
            ]
          },
          "metadata": {
            "tags": []
          },
          "execution_count": 36
        }
      ]
    },
    {
      "cell_type": "code",
      "metadata": {
        "colab": {
          "base_uri": "https://localhost:8080/",
          "height": 1000
        },
        "id": "6aQTZurwdPCA",
        "outputId": "c2b32f13-b381-4a95-967f-0783b8718417"
      },
      "source": [
        "import pandas as pd\n",
        "loss=pd.DataFrame(model.history.history)\n",
        "loss"
      ],
      "execution_count": null,
      "outputs": [
        {
          "output_type": "execute_result",
          "data": {
            "text/html": [
              "<div>\n",
              "<style scoped>\n",
              "    .dataframe tbody tr th:only-of-type {\n",
              "        vertical-align: middle;\n",
              "    }\n",
              "\n",
              "    .dataframe tbody tr th {\n",
              "        vertical-align: top;\n",
              "    }\n",
              "\n",
              "    .dataframe thead th {\n",
              "        text-align: right;\n",
              "    }\n",
              "</style>\n",
              "<table border=\"1\" class=\"dataframe\">\n",
              "  <thead>\n",
              "    <tr style=\"text-align: right;\">\n",
              "      <th></th>\n",
              "      <th>loss</th>\n",
              "      <th>val_loss</th>\n",
              "    </tr>\n",
              "  </thead>\n",
              "  <tbody>\n",
              "    <tr>\n",
              "      <th>0</th>\n",
              "      <td>0.792646</td>\n",
              "      <td>0.579755</td>\n",
              "    </tr>\n",
              "    <tr>\n",
              "      <th>1</th>\n",
              "      <td>0.624391</td>\n",
              "      <td>0.466428</td>\n",
              "    </tr>\n",
              "    <tr>\n",
              "      <th>2</th>\n",
              "      <td>0.534902</td>\n",
              "      <td>0.389095</td>\n",
              "    </tr>\n",
              "    <tr>\n",
              "      <th>3</th>\n",
              "      <td>0.469296</td>\n",
              "      <td>0.328464</td>\n",
              "    </tr>\n",
              "    <tr>\n",
              "      <th>4</th>\n",
              "      <td>0.390302</td>\n",
              "      <td>0.282931</td>\n",
              "    </tr>\n",
              "    <tr>\n",
              "      <th>5</th>\n",
              "      <td>0.357837</td>\n",
              "      <td>0.245354</td>\n",
              "    </tr>\n",
              "    <tr>\n",
              "      <th>6</th>\n",
              "      <td>0.305064</td>\n",
              "      <td>0.214780</td>\n",
              "    </tr>\n",
              "    <tr>\n",
              "      <th>7</th>\n",
              "      <td>0.258014</td>\n",
              "      <td>0.190119</td>\n",
              "    </tr>\n",
              "    <tr>\n",
              "      <th>8</th>\n",
              "      <td>0.238699</td>\n",
              "      <td>0.169362</td>\n",
              "    </tr>\n",
              "    <tr>\n",
              "      <th>9</th>\n",
              "      <td>0.206446</td>\n",
              "      <td>0.152939</td>\n",
              "    </tr>\n",
              "    <tr>\n",
              "      <th>10</th>\n",
              "      <td>0.202742</td>\n",
              "      <td>0.140579</td>\n",
              "    </tr>\n",
              "    <tr>\n",
              "      <th>11</th>\n",
              "      <td>0.179548</td>\n",
              "      <td>0.129740</td>\n",
              "    </tr>\n",
              "    <tr>\n",
              "      <th>12</th>\n",
              "      <td>0.165311</td>\n",
              "      <td>0.121794</td>\n",
              "    </tr>\n",
              "    <tr>\n",
              "      <th>13</th>\n",
              "      <td>0.155444</td>\n",
              "      <td>0.114807</td>\n",
              "    </tr>\n",
              "    <tr>\n",
              "      <th>14</th>\n",
              "      <td>0.152638</td>\n",
              "      <td>0.109715</td>\n",
              "    </tr>\n",
              "    <tr>\n",
              "      <th>15</th>\n",
              "      <td>0.139185</td>\n",
              "      <td>0.105455</td>\n",
              "    </tr>\n",
              "    <tr>\n",
              "      <th>16</th>\n",
              "      <td>0.137955</td>\n",
              "      <td>0.102492</td>\n",
              "    </tr>\n",
              "    <tr>\n",
              "      <th>17</th>\n",
              "      <td>0.120644</td>\n",
              "      <td>0.100083</td>\n",
              "    </tr>\n",
              "    <tr>\n",
              "      <th>18</th>\n",
              "      <td>0.115001</td>\n",
              "      <td>0.098380</td>\n",
              "    </tr>\n",
              "    <tr>\n",
              "      <th>19</th>\n",
              "      <td>0.114902</td>\n",
              "      <td>0.097000</td>\n",
              "    </tr>\n",
              "    <tr>\n",
              "      <th>20</th>\n",
              "      <td>0.110521</td>\n",
              "      <td>0.096212</td>\n",
              "    </tr>\n",
              "    <tr>\n",
              "      <th>21</th>\n",
              "      <td>0.109718</td>\n",
              "      <td>0.095684</td>\n",
              "    </tr>\n",
              "    <tr>\n",
              "      <th>22</th>\n",
              "      <td>0.103256</td>\n",
              "      <td>0.095067</td>\n",
              "    </tr>\n",
              "    <tr>\n",
              "      <th>23</th>\n",
              "      <td>0.106360</td>\n",
              "      <td>0.094371</td>\n",
              "    </tr>\n",
              "    <tr>\n",
              "      <th>24</th>\n",
              "      <td>0.104834</td>\n",
              "      <td>0.094206</td>\n",
              "    </tr>\n",
              "    <tr>\n",
              "      <th>25</th>\n",
              "      <td>0.105898</td>\n",
              "      <td>0.094183</td>\n",
              "    </tr>\n",
              "    <tr>\n",
              "      <th>26</th>\n",
              "      <td>0.095471</td>\n",
              "      <td>0.094573</td>\n",
              "    </tr>\n",
              "    <tr>\n",
              "      <th>27</th>\n",
              "      <td>0.086313</td>\n",
              "      <td>0.094892</td>\n",
              "    </tr>\n",
              "    <tr>\n",
              "      <th>28</th>\n",
              "      <td>0.085136</td>\n",
              "      <td>0.095359</td>\n",
              "    </tr>\n",
              "    <tr>\n",
              "      <th>29</th>\n",
              "      <td>0.091161</td>\n",
              "      <td>0.095834</td>\n",
              "    </tr>\n",
              "    <tr>\n",
              "      <th>30</th>\n",
              "      <td>0.090934</td>\n",
              "      <td>0.096315</td>\n",
              "    </tr>\n",
              "    <tr>\n",
              "      <th>31</th>\n",
              "      <td>0.080911</td>\n",
              "      <td>0.096387</td>\n",
              "    </tr>\n",
              "    <tr>\n",
              "      <th>32</th>\n",
              "      <td>0.084352</td>\n",
              "      <td>0.096880</td>\n",
              "    </tr>\n",
              "    <tr>\n",
              "      <th>33</th>\n",
              "      <td>0.080791</td>\n",
              "      <td>0.097250</td>\n",
              "    </tr>\n",
              "    <tr>\n",
              "      <th>34</th>\n",
              "      <td>0.084866</td>\n",
              "      <td>0.096967</td>\n",
              "    </tr>\n",
              "    <tr>\n",
              "      <th>35</th>\n",
              "      <td>0.075037</td>\n",
              "      <td>0.097001</td>\n",
              "    </tr>\n",
              "    <tr>\n",
              "      <th>36</th>\n",
              "      <td>0.085430</td>\n",
              "      <td>0.098040</td>\n",
              "    </tr>\n",
              "    <tr>\n",
              "      <th>37</th>\n",
              "      <td>0.073539</td>\n",
              "      <td>0.099347</td>\n",
              "    </tr>\n",
              "    <tr>\n",
              "      <th>38</th>\n",
              "      <td>0.078059</td>\n",
              "      <td>0.099868</td>\n",
              "    </tr>\n",
              "    <tr>\n",
              "      <th>39</th>\n",
              "      <td>0.073217</td>\n",
              "      <td>0.099411</td>\n",
              "    </tr>\n",
              "    <tr>\n",
              "      <th>40</th>\n",
              "      <td>0.084897</td>\n",
              "      <td>0.100632</td>\n",
              "    </tr>\n",
              "    <tr>\n",
              "      <th>41</th>\n",
              "      <td>0.073096</td>\n",
              "      <td>0.100185</td>\n",
              "    </tr>\n",
              "    <tr>\n",
              "      <th>42</th>\n",
              "      <td>0.069922</td>\n",
              "      <td>0.100841</td>\n",
              "    </tr>\n",
              "    <tr>\n",
              "      <th>43</th>\n",
              "      <td>0.068327</td>\n",
              "      <td>0.101195</td>\n",
              "    </tr>\n",
              "    <tr>\n",
              "      <th>44</th>\n",
              "      <td>0.065908</td>\n",
              "      <td>0.101080</td>\n",
              "    </tr>\n",
              "    <tr>\n",
              "      <th>45</th>\n",
              "      <td>0.070688</td>\n",
              "      <td>0.102383</td>\n",
              "    </tr>\n",
              "    <tr>\n",
              "      <th>46</th>\n",
              "      <td>0.066874</td>\n",
              "      <td>0.102588</td>\n",
              "    </tr>\n",
              "    <tr>\n",
              "      <th>47</th>\n",
              "      <td>0.070782</td>\n",
              "      <td>0.103122</td>\n",
              "    </tr>\n",
              "    <tr>\n",
              "      <th>48</th>\n",
              "      <td>0.078791</td>\n",
              "      <td>0.103279</td>\n",
              "    </tr>\n",
              "    <tr>\n",
              "      <th>49</th>\n",
              "      <td>0.072847</td>\n",
              "      <td>0.104192</td>\n",
              "    </tr>\n",
              "  </tbody>\n",
              "</table>\n",
              "</div>"
            ],
            "text/plain": [
              "        loss  val_loss\n",
              "0   0.792646  0.579755\n",
              "1   0.624391  0.466428\n",
              "2   0.534902  0.389095\n",
              "3   0.469296  0.328464\n",
              "4   0.390302  0.282931\n",
              "5   0.357837  0.245354\n",
              "6   0.305064  0.214780\n",
              "7   0.258014  0.190119\n",
              "8   0.238699  0.169362\n",
              "9   0.206446  0.152939\n",
              "10  0.202742  0.140579\n",
              "11  0.179548  0.129740\n",
              "12  0.165311  0.121794\n",
              "13  0.155444  0.114807\n",
              "14  0.152638  0.109715\n",
              "15  0.139185  0.105455\n",
              "16  0.137955  0.102492\n",
              "17  0.120644  0.100083\n",
              "18  0.115001  0.098380\n",
              "19  0.114902  0.097000\n",
              "20  0.110521  0.096212\n",
              "21  0.109718  0.095684\n",
              "22  0.103256  0.095067\n",
              "23  0.106360  0.094371\n",
              "24  0.104834  0.094206\n",
              "25  0.105898  0.094183\n",
              "26  0.095471  0.094573\n",
              "27  0.086313  0.094892\n",
              "28  0.085136  0.095359\n",
              "29  0.091161  0.095834\n",
              "30  0.090934  0.096315\n",
              "31  0.080911  0.096387\n",
              "32  0.084352  0.096880\n",
              "33  0.080791  0.097250\n",
              "34  0.084866  0.096967\n",
              "35  0.075037  0.097001\n",
              "36  0.085430  0.098040\n",
              "37  0.073539  0.099347\n",
              "38  0.078059  0.099868\n",
              "39  0.073217  0.099411\n",
              "40  0.084897  0.100632\n",
              "41  0.073096  0.100185\n",
              "42  0.069922  0.100841\n",
              "43  0.068327  0.101195\n",
              "44  0.065908  0.101080\n",
              "45  0.070688  0.102383\n",
              "46  0.066874  0.102588\n",
              "47  0.070782  0.103122\n",
              "48  0.078791  0.103279\n",
              "49  0.072847  0.104192"
            ]
          },
          "metadata": {
            "tags": []
          },
          "execution_count": 37
        }
      ]
    },
    {
      "cell_type": "code",
      "metadata": {
        "colab": {
          "base_uri": "https://localhost:8080/",
          "height": 265
        },
        "id": "n9Y0yxGsdPCC",
        "outputId": "54df334c-7066-413d-927c-6641a460d472"
      },
      "source": [
        "import matplotlib.pyplot as plt\n",
        "plt.plot(loss)\n",
        "a=plt.show"
      ],
      "execution_count": null,
      "outputs": [
        {
          "output_type": "display_data",
          "data": {
            "image/png": "[encoded data removed]",
            "text/plain": [
              "<Figure size 432x288 with 1 Axes>"
            ]
          },
          "metadata": {
            "tags": [],
            "needs_background": "light"
          }
        }
      ]
    },
    {
      "cell_type": "code",
      "metadata": {
        "colab": {
          "base_uri": "https://localhost:8080/"
        },
        "id": "HQ9dFd9DdPCE",
        "outputId": "ac32b8ff-8633-481c-e5b2-dc96a91e32d0"
      },
      "source": [
        "#early stoping\n",
        "from keras.callbacks import EarlyStopping\n",
        "early_stop = EarlyStopping(mode='min', verbose =1, patience =5)\n",
        "model.fit(x_train_scaled,y_train,epochs =400,validation_data=(x_test_scaled,y_test),callbacks=[early_stop])"
      ],
      "execution_count": null,
      "outputs": [
        {
          "output_type": "stream",
          "text": [
            "Epoch 1/400\n",
            "17/17 [==============================] - 0s 7ms/step - loss: 0.0702 - val_loss: 0.1047\n",
            "Epoch 2/400\n",
            "17/17 [==============================] - 0s 3ms/step - loss: 0.0678 - val_loss: 0.1056\n",
            "Epoch 3/400\n",
            "17/17 [==============================] - 0s 4ms/step - loss: 0.0650 - val_loss: 0.1055\n",
            "Epoch 4/400\n",
            "17/17 [==============================] - 0s 4ms/step - loss: 0.0689 - val_loss: 0.1062\n",
            "Epoch 5/400\n",
            "17/17 [==============================] - 0s 4ms/step - loss: 0.0662 - val_loss: 0.1069\n",
            "Epoch 6/400\n",
            "17/17 [==============================] - 0s 5ms/step - loss: 0.0534 - val_loss: 0.1071\n",
            "Epoch 00006: early stopping\n"
          ],
          "name": "stdout"
        },
        {
          "output_type": "execute_result",
          "data": {
            "text/plain": [
              "<tensorflow.python.keras.callbacks.History at 0x7faefd876910>"
            ]
          },
          "metadata": {
            "tags": []
          },
          "execution_count": 39
        }
      ]
    },
    {
      "cell_type": "code",
      "metadata": {
        "id": "3N0csm-aeGZN"
      },
      "source": [
        " "
      ],
      "execution_count": null,
      "outputs": []
    }
  ]
}